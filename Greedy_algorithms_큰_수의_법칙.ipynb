{
 "cells": [
  {
   "cell_type": "markdown",
   "id": "e5558e3d",
   "metadata": {},
   "source": [
    "# 예제 3-1 거스름돈"
   ]
  },
  {
   "cell_type": "code",
   "execution_count": 1,
   "id": "9a9d4f9b",
   "metadata": {},
   "outputs": [
    {
     "name": "stdout",
     "output_type": "stream",
     "text": [
      "6\n"
     ]
    }
   ],
   "source": [
    "N = 1260\n",
    "count = 0 \n",
    "\n",
    "coin_types = [500,100,50,10]\n",
    "\n",
    "for coin in coin_types:\n",
    "    count+= N // coin\n",
    "    N %= coin\n",
    "print(count)"
   ]
  },
  {
   "cell_type": "markdown",
   "id": "0e01aa11",
   "metadata": {},
   "source": [
    "# 실전 문제2 - 큰 수의 법칙"
   ]
  },
  {
   "cell_type": "code",
   "execution_count": 14,
   "id": "714f240c",
   "metadata": {},
   "outputs": [
    {
     "name": "stdout",
     "output_type": "stream",
     "text": [
      "5 8 3\n",
      "2 4 5 4 6\n",
      "46\n"
     ]
    }
   ],
   "source": [
    "# 내가 작성한 풀이 \n",
    "n,m,k = map(int,input().split())\n",
    "arr = list(map(int,input().split()))\n",
    "arr.sort()\n",
    "result = 0\n",
    "max_1 = arr[n-1]\n",
    "max_2 = arr[n-2]\n",
    "\n",
    "while(m>0):\n",
    "    i = 0\n",
    "    while(i<k):\n",
    "        result += max_1\n",
    "        i+=1\n",
    "        \n",
    "        m -= 1\n",
    "    result += max_2\n",
    "    m -= 1\n",
    "print(result)\n",
    "    \n",
    "    \n",
    "\n"
   ]
  },
  {
   "cell_type": "code",
   "execution_count": null,
   "id": "6bdc2b3d",
   "metadata": {},
   "outputs": [],
   "source": [
    "# 모범 답안 -1 \n",
    "\n",
    "n,m,k = map(int,input().split())\n",
    "data = list(map(int,input().split()))\n",
    "data.sort() # 데이터 정렬하기 \n",
    "\n",
    "first = data[n-1] # 가장 큰 수 \n",
    "second = data[n-2] # 두번째로 큰 수 \n",
    "\n",
    "result = 0\n",
    "\n",
    "while True:\n",
    "    for i in range(k):\n",
    "        if (m == 0):\n",
    "            break\n",
    "        result += first\n",
    "        m -= 1\n",
    "    if m==0:\n",
    "        break\n",
    "    result += second\n",
    "    m -= 1\n",
    "print(result)"
   ]
  },
  {
   "cell_type": "code",
   "execution_count": null,
   "id": "bed507c2",
   "metadata": {},
   "outputs": [],
   "source": [
    "# 모범 답안 -2 (with 반복되는 수열 파악 )"
   ]
  },
  {
   "cell_type": "code",
   "execution_count": 10,
   "id": "ad84c8ab",
   "metadata": {},
   "outputs": [
    {
     "name": "stdout",
     "output_type": "stream",
     "text": [
      "5 8 3\n",
      "2 4 5 4 6\n",
      "46\n"
     ]
    }
   ],
   "source": [
    "# 모범 답안 -1 \n",
    "\n",
    "n,m,k = map(int,input().split())\n",
    "data = list(map(int,input().split()))\n",
    "data.sort() # 데이터 정렬하기 \n",
    "\n",
    "first = data[n-1] # 가장 큰 수 \n",
    "second = data[n-2] # 두번째로 큰 수 \n",
    "\n",
    "count = int(m/(k+1))*k\n",
    "count += m % (k+1)\n",
    "\n",
    "result = 0\n",
    "result += (count) * first\n",
    "result += (m-count) * second\n",
    "\n",
    "print(result)"
   ]
  },
  {
   "cell_type": "code",
   "execution_count": null,
   "id": "8416ce69",
   "metadata": {},
   "outputs": [],
   "source": []
  },
  {
   "cell_type": "code",
   "execution_count": null,
   "id": "ddcd4229",
   "metadata": {},
   "outputs": [],
   "source": []
  }
 ],
 "metadata": {
  "kernelspec": {
   "display_name": "Python 3 (ipykernel)",
   "language": "python",
   "name": "python3"
  },
  "language_info": {
   "codemirror_mode": {
    "name": "ipython",
    "version": 3
   },
   "file_extension": ".py",
   "mimetype": "text/x-python",
   "name": "python",
   "nbconvert_exporter": "python",
   "pygments_lexer": "ipython3",
   "version": "3.9.12"
  }
 },
 "nbformat": 4,
 "nbformat_minor": 5
}
