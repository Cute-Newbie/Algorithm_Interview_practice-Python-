{
 "cells": [
  {
   "cell_type": "code",
   "execution_count": null,
   "id": "ec64a90f",
   "metadata": {},
   "outputs": [],
   "source": [
    "#My_code"
   ]
  },
  {
   "cell_type": "code",
   "execution_count": 8,
   "id": "adb51778",
   "metadata": {},
   "outputs": [
    {
     "name": "stdout",
     "output_type": "stream",
     "text": [
      "5\n",
      "R R R U D D\n",
      "4 3\n"
     ]
    }
   ],
   "source": [
    "n = int(input())\n",
    "x = 1\n",
    "y = 1\n",
    "data = list(map(str,input().split()))\n",
    "\n",
    "for i in data:\n",
    "    if i == 'R':\n",
    "        x += 1\n",
    "        if x>n:\n",
    "            x -= 1\n",
    "        \n",
    "    if i == 'L':\n",
    "        x -= 1\n",
    "        if x<0:\n",
    "            x += 1\n",
    "            \n",
    "    if i == 'D':\n",
    "        y += 1\n",
    "        if y>n:\n",
    "            y -= 1\n",
    "    \n",
    "    if i == 'U':\n",
    "        y -= 1\n",
    "        if y <= 0:\n",
    "            y += 1\n",
    "print(x,y)"
   ]
  },
  {
   "cell_type": "code",
   "execution_count": null,
   "id": "d697553a",
   "metadata": {},
   "outputs": [],
   "source": [
    "# 답안 예시 "
   ]
  },
  {
   "cell_type": "code",
   "execution_count": null,
   "id": "6034da4e",
   "metadata": {},
   "outputs": [],
   "source": [
    "n = int(input())\n",
    "x,y = 1,1\n",
    "plans = input().split()\n",
    "\n",
    "#L,R,U,D,D에 따른 이동 방향 \n",
    "\n",
    "dx = [0,0,-1,1]\n",
    "dy = [-1,1,0,0]\n",
    "\n",
    "move_types = ['L','R','U','D']\n",
    "\n",
    "for plan in plans:\n",
    "    for i in range(len(move_types)):\n",
    "        \n",
    "        if plan == move_types[i]:\n",
    "            nx = x + dx[i]\n",
    "            ny = y + dy[i]\n",
    "        if nx < 1 or ny <1 or nx>n or ny>n:\n",
    "            continue\n",
    "        x,y = nx,ny\n",
    "print(x,y)"
   ]
  },
  {
   "cell_type": "code",
   "execution_count": null,
   "id": "faad3f3b",
   "metadata": {},
   "outputs": [],
   "source": []
  },
  {
   "cell_type": "code",
   "execution_count": null,
   "id": "db12c28f",
   "metadata": {},
   "outputs": [],
   "source": []
  }
 ],
 "metadata": {
  "kernelspec": {
   "display_name": "Python 3 (ipykernel)",
   "language": "python",
   "name": "python3"
  },
  "language_info": {
   "codemirror_mode": {
    "name": "ipython",
    "version": 3
   },
   "file_extension": ".py",
   "mimetype": "text/x-python",
   "name": "python",
   "nbconvert_exporter": "python",
   "pygments_lexer": "ipython3",
   "version": "3.9.12"
  }
 },
 "nbformat": 4,
 "nbformat_minor": 5
}
