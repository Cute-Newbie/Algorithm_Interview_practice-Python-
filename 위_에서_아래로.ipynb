{
 "cells": [
  {
   "cell_type": "code",
   "execution_count": null,
   "id": "8dc90810",
   "metadata": {},
   "outputs": [],
   "source": [
    "#My answer"
   ]
  },
  {
   "cell_type": "code",
   "execution_count": 5,
   "id": "f776dc2d",
   "metadata": {},
   "outputs": [
    {
     "name": "stdout",
     "output_type": "stream",
     "text": [
      "3\n",
      "15\n",
      "27\n",
      "12\n",
      "27 15 12 "
     ]
    }
   ],
   "source": [
    "n = int(input())\n",
    "\n",
    "lst = [0] * n\n",
    "\n",
    "for i in range(n):\n",
    "    lst[i] = int(input())\n",
    "lst.sort()\n",
    "for i in range(n):\n",
    "    print(lst[n-i-1],end = \" \")"
   ]
  },
  {
   "cell_type": "code",
   "execution_count": null,
   "id": "d1ce8ee7",
   "metadata": {},
   "outputs": [],
   "source": [
    "#책"
   ]
  },
  {
   "cell_type": "code",
   "execution_count": 6,
   "id": "90dc3fe7",
   "metadata": {},
   "outputs": [
    {
     "name": "stdout",
     "output_type": "stream",
     "text": [
      "3\n",
      "15\n",
      "27\n",
      "12\n",
      "27 15 12 "
     ]
    }
   ],
   "source": [
    "n = int(input())\n",
    "\n",
    "array = []\n",
    "\n",
    "for i in range(n):\n",
    "    array.append(int(input()))\n",
    "\n",
    "array = sorted(array,reverse = True)\n",
    "\n",
    "for i in array:\n",
    "    print(i,end = \" \")\n",
    "    "
   ]
  }
 ],
 "metadata": {
  "kernelspec": {
   "display_name": "Python 3 (ipykernel)",
   "language": "python",
   "name": "python3"
  },
  "language_info": {
   "codemirror_mode": {
    "name": "ipython",
    "version": 3
   },
   "file_extension": ".py",
   "mimetype": "text/x-python",
   "name": "python",
   "nbconvert_exporter": "python",
   "pygments_lexer": "ipython3",
   "version": "3.9.13"
  }
 },
 "nbformat": 4,
 "nbformat_minor": 5
}
