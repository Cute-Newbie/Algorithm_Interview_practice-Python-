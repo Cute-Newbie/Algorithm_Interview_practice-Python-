{
 "cells": [
  {
   "cell_type": "code",
   "execution_count": null,
   "id": "cb1fb275",
   "metadata": {},
   "outputs": [],
   "source": [
    "#My solution"
   ]
  },
  {
   "cell_type": "code",
   "execution_count": 3,
   "id": "d9b6e52a",
   "metadata": {},
   "outputs": [
    {
     "name": "stdout",
     "output_type": "stream",
     "text": [
      "4 6\n",
      "19 15 10 17\n",
      "15\n"
     ]
    }
   ],
   "source": [
    "n,m = map(int,input().split())\n",
    "data = sorted(list(map(int,input().split())))\n",
    "start = 0\n",
    "end = max(data)\n",
    "\n",
    "while(start<=end):\n",
    "    mid = (start+ end)//2\n",
    "    total = 0\n",
    "    for x in data:\n",
    "        if x>mid:\n",
    "            total += (x-mid)\n",
    "    if total<m:\n",
    "        end = mid-1\n",
    "    else:\n",
    "        result = mid\n",
    "        start = mid +1\n",
    "print(result)"
   ]
  }
 ],
 "metadata": {
  "kernelspec": {
   "display_name": "Python 3 (ipykernel)",
   "language": "python",
   "name": "python3"
  },
  "language_info": {
   "codemirror_mode": {
    "name": "ipython",
    "version": 3
   },
   "file_extension": ".py",
   "mimetype": "text/x-python",
   "name": "python",
   "nbconvert_exporter": "python",
   "pygments_lexer": "ipython3",
   "version": "3.9.12"
  }
 },
 "nbformat": 4,
 "nbformat_minor": 5
}
