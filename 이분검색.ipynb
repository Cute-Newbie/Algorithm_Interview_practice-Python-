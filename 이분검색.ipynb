{
 "cells": [
  {
   "cell_type": "markdown",
   "id": "cbb5b265",
   "metadata": {},
   "source": [
    "임의의 n개의 숫자가 입력으로 주어집니다. N개의 수를 오름차순으로 정렬한 다음 n개의 수 중 한개의 수인 m이 주어지면 m이 정렬된 상태에서 몇 번째에 있는지 구하는 프로그램을 작성하세요."
   ]
  },
  {
   "cell_type": "code",
   "execution_count": 2,
   "id": "44d82c03",
   "metadata": {},
   "outputs": [
    {
     "name": "stdout",
     "output_type": "stream",
     "text": [
      "8 32\n",
      "23 87 65 12 57 32 99 81\n"
     ]
    },
    {
     "data": {
      "text/plain": [
       "3"
      ]
     },
     "execution_count": 2,
     "metadata": {},
     "output_type": "execute_result"
    }
   ],
   "source": [
    "# 내 풀이 \n",
    "def binary_search(array,target,start,end):\n",
    "    \n",
    "    s = start\n",
    "    e = end \n",
    "    mid = (s+e)//2 \n",
    "    \n",
    "    if(array[mid] == target):\n",
    "        return mid + 1\n",
    "    \n",
    "    if(array[mid]>target):\n",
    "        return binary_search(array,target,start,mid-1)\n",
    "    \n",
    "    if(array[mid]<target):\n",
    "        return binary_search(array,target,mid+1,end)\n",
    "    \n",
    "n,m = map(int,input().split())\n",
    "array = list(map(int,input().split()))\n",
    "array = sorted(array)\n",
    "binary_search(array,m,0,len(array))"
   ]
  },
  {
   "cell_type": "markdown",
   "id": "0d3a1c40",
   "metadata": {},
   "source": [
    "### 강사 풀이 \n",
    "\n",
    "n,m = map(int,input().split())\n",
    "a = list(map(int,input().split()))\n",
    "\n",
    "#우선 정렬을 해야 됨 (이분 탐색의 전제조건)\n",
    "\n",
    "a.sort()\n",
    "\n",
    "lt = 0\n",
    "rt = n-1\n",
    "\n",
    "while(lt <= rt):\n",
    "    mid = (lt + rt)//2\n",
    "    \n",
    "    if a[mid] == m:\n",
    "        print(mid + 1)\n",
    "        break\n",
    "    \n",
    "    elif a[mid] > m:\n",
    "        rt = mid-1\n",
    "    else:\n",
    "        lt = mid + 1\n",
    "        \n",
    "    \n",
    "    \n",
    "    \n",
    "    "
   ]
  }
 ],
 "metadata": {
  "kernelspec": {
   "display_name": "Python 3 (ipykernel)",
   "language": "python",
   "name": "python3"
  },
  "language_info": {
   "codemirror_mode": {
    "name": "ipython",
    "version": 3
   },
   "file_extension": ".py",
   "mimetype": "text/x-python",
   "name": "python",
   "nbconvert_exporter": "python",
   "pygments_lexer": "ipython3",
   "version": "3.9.12"
  }
 },
 "nbformat": 4,
 "nbformat_minor": 5
}
