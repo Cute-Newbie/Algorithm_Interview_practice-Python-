{
 "cells": [
  {
   "cell_type": "markdown",
   "id": "9c705f4c",
   "metadata": {},
   "source": [
    "지니레코드에서는 불세출의 가수 조영필의 라이브 동영상을 DVD로 만들어 판매하려 한다. \n",
    "DVD에는 총 N개의 곡이 들어가는데, DVD에 녹화할 때에는 라이브에서의 순서가 그대로 유지\n",
    "되어야 한다. 순서가 바뀌는 것을 우리의 가수 조영필씨가 매우 싫어한다. 즉, 1번 노래와 5번 \n",
    "노래를 같은 DVD에 녹화하기 위해서는 1번과 5번 사이의 모든 노래도 같은 DVD에 녹화해야 \n",
    "한다. 또한 한 노래를 쪼개서 두 개의 DVD에 녹화하면 안된다.\n",
    "지니레코드 입장에서는 이 DVD가 팔릴 것인지 확신할 수 없기 때문에 이 사업에 낭비되는 \n",
    "DVD를 가급적 줄이려고 한다. 고민 끝에 지니레코드는 M개의 DVD에 모든 동영상을 녹화하기\n",
    "로 하였다. 이 때 DVD의 크기(녹화 가능한 길이)를 최소로 하려고 한다. 그리고 M개의 DVD는 \n",
    "모두 같은 크기여야 제조원가가 적게 들기 때문에 꼭 같은 크기로 해야 한다"
   ]
  },
  {
   "cell_type": "code",
   "execution_count": 4,
   "id": "dcb816d3",
   "metadata": {},
   "outputs": [
    {
     "name": "stdout",
     "output_type": "stream",
     "text": [
      "9 3\n",
      "1 2 3 4 5 6 7 8 9\n",
      "17\n"
     ]
    }
   ],
   "source": [
    "#내 풀이\n",
    "\n",
    "m,n = map(int,input().split())\n",
    "songs = list(map(int,input().split()))\n",
    "\n",
    "average = sum(songs)/n\n",
    "playlist = []\n",
    "\n",
    "hap = 0\n",
    "\n",
    "for i in range(len(songs)):\n",
    "    hap  = hap + songs[i]\n",
    "    if hap>=average:\n",
    "        hap = hap - songs[i]\n",
    "        playlist.append(hap)\n",
    "        hap = 0\n",
    "    if len(playlist) == n-1:\n",
    "        playlist.append(sum(songs[i:]))\n",
    "print(max(playlist))\n",
    "        \n"
   ]
  },
  {
   "cell_type": "code",
   "execution_count": 6,
   "id": "c6eac843",
   "metadata": {},
   "outputs": [
    {
     "name": "stdout",
     "output_type": "stream",
     "text": [
      "9 3\n",
      "1 2 3 4 5 6 7 8 9\n",
      "17\n"
     ]
    }
   ],
   "source": [
    "#강사 풀이 \n",
    "\n",
    "##\n",
    "def Count(capacity):\n",
    "    \n",
    "    cnt = 1\n",
    "    \n",
    "    hap = 0\n",
    "    \n",
    "    for x in music:\n",
    "        \n",
    "        if hap + x> capacity:\n",
    "            \n",
    "            cnt += 1\n",
    "            hap = x\n",
    "        else:\n",
    "            hap += x\n",
    "    \n",
    "    return cnt\n",
    "            \n",
    "            \n",
    "        \n",
    "\n",
    "n,m = map(int,input().split())\n",
    "\n",
    "music = list(map(int,input().split()))\n",
    "\n",
    "lt = 1\n",
    "rt = sum(music)\n",
    "\n",
    "res = 0\n",
    "\n",
    "while lt < rt:\n",
    "    \n",
    "    mid = (lt + rt) // 2\n",
    "    \n",
    "    if Count(mid) <=m:\n",
    "        \n",
    "        res = mid\n",
    "        \n",
    "        rt = mid\n",
    "    else:\n",
    "        lt = mid + 1\n",
    "print(res)\n",
    "        \n",
    "        \n",
    "    \n",
    "\n",
    "\n",
    "\n",
    "\n"
   ]
  }
 ],
 "metadata": {
  "kernelspec": {
   "display_name": "Python 3 (ipykernel)",
   "language": "python",
   "name": "python3"
  },
  "language_info": {
   "codemirror_mode": {
    "name": "ipython",
    "version": 3
   },
   "file_extension": ".py",
   "mimetype": "text/x-python",
   "name": "python",
   "nbconvert_exporter": "python",
   "pygments_lexer": "ipython3",
   "version": "3.9.12"
  }
 },
 "nbformat": 4,
 "nbformat_minor": 5
}
