{
 "cells": [
  {
   "cell_type": "code",
   "execution_count": null,
   "id": "20071443",
   "metadata": {},
   "outputs": [],
   "source": [
    "#My answer"
   ]
  },
  {
   "cell_type": "code",
   "execution_count": 2,
   "id": "05f5b38b",
   "metadata": {},
   "outputs": [
    {
     "name": "stdout",
     "output_type": "stream",
     "text": [
      "2\n",
      "홍길동 95\n",
      "이순신 75\n",
      "이순신 홍길동 "
     ]
    }
   ],
   "source": [
    "dic = {}\n",
    "\n",
    "n = int(input())\n",
    "\n",
    "for i in range(n):\n",
    "    name,score = input().split()\n",
    "    score = int(score)\n",
    "    dic[name] = score\n",
    "dic = sorted(dic,key = lambda score:score[1])\n",
    "    \n",
    "for i in range(n):\n",
    "    print(dic[n-i-1],end = \" \")\n",
    "    \n",
    "    "
   ]
  },
  {
   "cell_type": "code",
   "execution_count": null,
   "id": "1c23d1c3",
   "metadata": {},
   "outputs": [],
   "source": [
    "#Books solution"
   ]
  },
  {
   "cell_type": "code",
   "execution_count": 3,
   "id": "75965482",
   "metadata": {},
   "outputs": [
    {
     "name": "stdout",
     "output_type": "stream",
     "text": [
      "2\n",
      "홍길동 95\n",
      "이순신 75\n",
      "이순신 홍길동 "
     ]
    }
   ],
   "source": [
    "n = int(input())\n",
    "array = []\n",
    "\n",
    "for i in range(n):\n",
    "    input_data = input().split()\n",
    "    array.append((input_data[0],int(input_data[1])))\n",
    "    \n",
    "array = sorted(array,key = lambda lst:lst[1])\n",
    "for student in array:\n",
    "    print(student[0],end = \" \")"
   ]
  }
 ],
 "metadata": {
  "kernelspec": {
   "display_name": "Python 3 (ipykernel)",
   "language": "python",
   "name": "python3"
  },
  "language_info": {
   "codemirror_mode": {
    "name": "ipython",
    "version": 3
   },
   "file_extension": ".py",
   "mimetype": "text/x-python",
   "name": "python",
   "nbconvert_exporter": "python",
   "pygments_lexer": "ipython3",
   "version": "3.9.13"
  }
 },
 "nbformat": 4,
 "nbformat_minor": 5
}
