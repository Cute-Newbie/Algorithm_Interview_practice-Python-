{
 "cells": [
  {
   "cell_type": "markdown",
   "id": "fd27d85e",
   "metadata": {},
   "source": [
    "엘리트 학원은 자체적으로 K개의 랜선을 가지고 있다. 그러나 K개의 랜선은 길이가 제각각이\n",
    "다. 선생님은 랜선을 모두 N개의 같은 길이의 랜선으로 만들고 싶었기 때문에 K개의 랜선을 \n",
    "잘라서 만들어야 한다. 예를 들어 300cm 짜리 랜선에서 140cm 짜리 랜선을 두 개 잘라내면 \n",
    "20cm 은 버려야 한다. (이미 자른 랜선은 붙일 수 없다.)\n",
    "편의를 위해 랜선을 자를때 손실되는 길이는 없다고 가정하며, 기존의 K개의 랜선으로 N개의 \n",
    "랜선을 만들 수 없는 경우는 없다고 가정하자. 그리고 자를 때는 항상 센티미터 단위로 정수\n",
    "길이만큼 자른다고 가정하자. N개보다 많이 만드는 것도 N개를 만드는 것에 포함된다. 이때 \n",
    "만들 수 있는 최대 랜선의 길이를 구하는 프로그램을 작성하시오."
   ]
  },
  {
   "cell_type": "code",
   "execution_count": 3,
   "id": "1e8efbd5",
   "metadata": {},
   "outputs": [
    {
     "name": "stdout",
     "output_type": "stream",
     "text": [
      "4 11\n",
      "802\n",
      "743\n",
      "457\n",
      "539\n",
      "200\n"
     ]
    }
   ],
   "source": [
    "# 내 풀이\n",
    "k,n = map(int,input().split())\n",
    "a = []\n",
    "ans = 0\n",
    "for i in range(k):\n",
    "    a.append(int(input()))\n",
    "    \n",
    "for i in range(1,min(a)+1):\n",
    "    cnt = 0\n",
    "    for j in a:\n",
    "        cnt += j//i\n",
    "    if cnt == n:\n",
    "        answ = i\n",
    "print(answ)\n",
    "    "
   ]
  },
  {
   "cell_type": "code",
   "execution_count": 4,
   "id": "d9923cbb",
   "metadata": {},
   "outputs": [
    {
     "name": "stdout",
     "output_type": "stream",
     "text": [
      "4 11\n",
      "802\n",
      "743\n",
      "457\n",
      "539\n",
      "200\n"
     ]
    }
   ],
   "source": [
    "# 강사 풀이 \n",
    "\n",
    "def Count(len1):\n",
    "    cnt = 0\n",
    "    for x in Line:\n",
    "        cnt += (x//len1)\n",
    "    return cnt\n",
    "\n",
    "k,n = map(int,input().split())\n",
    "\n",
    "Line = []\n",
    "res = 0\n",
    "largest = 0\n",
    "\n",
    "for i in range(k):\n",
    "    tmp = int(input())\n",
    "    Line.append(tmp)\n",
    "    largest = max(largest,tmp)\n",
    "\n",
    "lt = 1\n",
    "rt = largest\n",
    "\n",
    "while(lt<=rt):\n",
    "    \n",
    "    mid = (lt + rt)//2\n",
    "    if(Count(mid) >= n):\n",
    "        res = mid\n",
    "        lt = mid+1\n",
    "    else:\n",
    "        rt = mid-1\n",
    "print(res)\n",
    "    \n",
    "\n",
    "\n",
    "\n"
   ]
  },
  {
   "cell_type": "code",
   "execution_count": null,
   "id": "9eb62357",
   "metadata": {},
   "outputs": [],
   "source": []
  }
 ],
 "metadata": {
  "kernelspec": {
   "display_name": "Python 3 (ipykernel)",
   "language": "python",
   "name": "python3"
  },
  "language_info": {
   "codemirror_mode": {
    "name": "ipython",
    "version": 3
   },
   "file_extension": ".py",
   "mimetype": "text/x-python",
   "name": "python",
   "nbconvert_exporter": "python",
   "pygments_lexer": "ipython3",
   "version": "3.9.12"
  }
 },
 "nbformat": 4,
 "nbformat_minor": 5
}
