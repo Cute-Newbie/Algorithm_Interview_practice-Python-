{
 "cells": [
  {
   "cell_type": "markdown",
   "id": "4e5501c3",
   "metadata": {},
   "source": [
    "N개의 마구간이 수직선상에 있습니다. 각 마구간은 x1, x2, x3, ......, xN의 좌표를 가지며, 마구간간에 좌표가 중복되는 일은 없습니다.\n",
    "현수는 C마리의 말을 가지고 있는데, 이 말들은 서로 가까이 있는 것을 좋아하지 않습니다. \n",
    "각 마구간에는 한 마리의 말만 넣을 수 있고, 가장 가까운 두 말의 거리가 최대가 되게 말을 \n",
    "마구간에 배치하고 싶습니다. \n",
    "C마리의 말을 N개의 마구간에 배치했을 때 가장 가까운 두 말의 거리가 최대가 되는 그 최대\n",
    "값을 출력하는 프로그램을 작성하세요."
   ]
  },
  {
   "cell_type": "code",
   "execution_count": 20,
   "id": "3d491857",
   "metadata": {},
   "outputs": [
    {
     "name": "stdout",
     "output_type": "stream",
     "text": [
      "5 3\n",
      "1\n",
      "2\n",
      "8\n",
      "4\n",
      "9\n",
      "9\n",
      "\n",
      "\n",
      "3\n"
     ]
    }
   ],
   "source": [
    "# 내 풀이 \n",
    "\n",
    "\n",
    "axis,horse = map(int,input().split())\n",
    "axis_info = []\n",
    "\n",
    "for i in range(axis):\n",
    "    axis_info.append(int(input()))\n",
    "\n",
    "axis_info = sorted(axis_info)\n",
    "\n",
    "lt = 1\n",
    "rt = axis_info[-1]\n",
    "print(rt)\n",
    "print()\n",
    "res = 0\n",
    "\n",
    "while(lt <= rt):\n",
    "    \n",
    "    mid = (lt + rt) // 2 \n",
    "    \n",
    "    cnt = 1\n",
    "    axis_horse = axis_info[0]\n",
    "    \n",
    "    for i in axis_info[1:]:\n",
    "        \n",
    "        if i-axis_horse>=mid:\n",
    "            cnt += 1\n",
    "            axis_horse = i\n",
    "        else:\n",
    "            continue\n",
    "    \n",
    "    if cnt>=horse:\n",
    "        \n",
    "        \n",
    "        res = mid\n",
    "        lt= mid+1\n",
    "    \n",
    "    else:\n",
    "        rt = mid-1\n",
    "\n",
    "print()\n",
    "print(res)\n",
    "    \n",
    "    \n",
    "    "
   ]
  },
  {
   "cell_type": "code",
   "execution_count": null,
   "id": "d8e96927",
   "metadata": {},
   "outputs": [],
   "source": []
  },
  {
   "cell_type": "code",
   "execution_count": null,
   "id": "3c4afd49",
   "metadata": {},
   "outputs": [],
   "source": []
  },
  {
   "cell_type": "code",
   "execution_count": null,
   "id": "069943f8",
   "metadata": {},
   "outputs": [],
   "source": []
  },
  {
   "cell_type": "code",
   "execution_count": null,
   "id": "36034c93",
   "metadata": {},
   "outputs": [],
   "source": []
  },
  {
   "cell_type": "code",
   "execution_count": null,
   "id": "16abd43c",
   "metadata": {},
   "outputs": [],
   "source": []
  }
 ],
 "metadata": {
  "kernelspec": {
   "display_name": "Python 3 (ipykernel)",
   "language": "python",
   "name": "python3"
  },
  "language_info": {
   "codemirror_mode": {
    "name": "ipython",
    "version": 3
   },
   "file_extension": ".py",
   "mimetype": "text/x-python",
   "name": "python",
   "nbconvert_exporter": "python",
   "pygments_lexer": "ipython3",
   "version": "3.9.12"
  }
 },
 "nbformat": 4,
 "nbformat_minor": 5
}
