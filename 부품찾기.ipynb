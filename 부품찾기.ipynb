{
 "cells": [
  {
   "cell_type": "code",
   "execution_count": null,
   "id": "5276dab9",
   "metadata": {},
   "outputs": [],
   "source": [
    "#My solution "
   ]
  },
  {
   "cell_type": "code",
   "execution_count": 6,
   "id": "7b14bff2",
   "metadata": {},
   "outputs": [],
   "source": [
    "def binary_search(array,target):\n",
    "    start = 0\n",
    "    end = len(array)-1\n",
    "    mid = (start+end)//2\n",
    "    while(start<=end):\n",
    "        if array[mid] == target:\n",
    "            return mid+1\n",
    "        if array[mid]>target:\n",
    "            end = mid - 1\n",
    "            mid = (start+end)//2\n",
    "        if array[mid]<target:\n",
    "            start = mid+1\n",
    "            mid = (start+end)//2\n",
    "    return -1"
   ]
  },
  {
   "cell_type": "code",
   "execution_count": 7,
   "id": "d14af0f4",
   "metadata": {},
   "outputs": [
    {
     "name": "stdout",
     "output_type": "stream",
     "text": [
      "5\n",
      "8 3 7 9 2\n",
      "3\n",
      "5 7 9\n",
      "no yes yes "
     ]
    }
   ],
   "source": [
    "n = int(input())\n",
    "data = sorted(list(map(int,input().split())))\n",
    "m = int(input())\n",
    "target_list = list(map(int,input().split()))\n",
    "for item in target_list:\n",
    "    if binary_search(data,item) == -1:\n",
    "        print(\"no\",end=\" \")\n",
    "    else:\n",
    "        print(\"yes\",end = \" \")\n"
   ]
  }
 ],
 "metadata": {
  "kernelspec": {
   "display_name": "Python 3 (ipykernel)",
   "language": "python",
   "name": "python3"
  },
  "language_info": {
   "codemirror_mode": {
    "name": "ipython",
    "version": 3
   },
   "file_extension": ".py",
   "mimetype": "text/x-python",
   "name": "python",
   "nbconvert_exporter": "python",
   "pygments_lexer": "ipython3",
   "version": "3.9.12"
  }
 },
 "nbformat": 4,
 "nbformat_minor": 5
}
