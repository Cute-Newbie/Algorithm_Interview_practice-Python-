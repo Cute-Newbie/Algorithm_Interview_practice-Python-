{
 "cells": [
  {
   "cell_type": "code",
   "execution_count": null,
   "id": "669641e3",
   "metadata": {},
   "outputs": [],
   "source": [
    "#My solution"
   ]
  },
  {
   "cell_type": "code",
   "execution_count": 4,
   "id": "46fc3f48",
   "metadata": {},
   "outputs": [
    {
     "name": "stdout",
     "output_type": "stream",
     "text": [
      "c2\n",
      "6\n"
     ]
    }
   ],
   "source": [
    "n = input()\n",
    "dic = {'a':1,\n",
    "       'b':2,\n",
    "       'c':3,\n",
    "       'd':4,\n",
    "       'e':5,\n",
    "       'f':6,\n",
    "       'g':7,\n",
    "       'h':8,}\n",
    "x_axis = int(dic[n[0]])\n",
    "y_axis = int(n[1])\n",
    "\n",
    "orders = [(2,1),(2,-1),(-2,1),(-2,-1),\n",
    "          (1,2),(1,-2),(-1,2),(-1,-2)]\n",
    "temp = 0\n",
    "for i in orders:\n",
    "    if (0<x_axis + i[0]<=8) and ((0<y_axis + i[1]<=8)):\n",
    "        temp+=1\n",
    "print(temp)"
   ]
  },
  {
   "cell_type": "code",
   "execution_count": 9,
   "id": "27df5d39",
   "metadata": {},
   "outputs": [
    {
     "name": "stdout",
     "output_type": "stream",
     "text": [
      "c2\n",
      "6\n"
     ]
    }
   ],
   "source": [
    "###### 답안예시\n",
    "input_data = input()\n",
    "\n",
    "row = int(input_data[1])\n",
    "# ord: 하나의 문자를 인자로 받고 해당 문자에 해당하는 유니코드 정수를 반환합니다.\n",
    "column =int(ord(input_data[0]) - int(ord('a'))) + 1\n",
    "\n",
    "steps = [(2,1),(2,-1),(-2,1),(-2,-1),(1,2),(1,-2),(-1,2),(-1,-2)]\n",
    "\n",
    "result = 0\n",
    "\n",
    "for step in steps:\n",
    "    next_row = row + step[0]\n",
    "    next_column = column + step[1]\n",
    "    \n",
    "    \n",
    "    if next_row >=1 and next_row <= 8 and next_column >=1 and next_column <= 8:\n",
    "        result += 1\n",
    "        \n",
    "print(result)"
   ]
  },
  {
   "cell_type": "code",
   "execution_count": null,
   "id": "b7f401f6",
   "metadata": {},
   "outputs": [],
   "source": []
  },
  {
   "cell_type": "code",
   "execution_count": null,
   "id": "9e6ab9f0",
   "metadata": {},
   "outputs": [],
   "source": []
  }
 ],
 "metadata": {
  "kernelspec": {
   "display_name": "Python 3 (ipykernel)",
   "language": "python",
   "name": "python3"
  },
  "language_info": {
   "codemirror_mode": {
    "name": "ipython",
    "version": 3
   },
   "file_extension": ".py",
   "mimetype": "text/x-python",
   "name": "python",
   "nbconvert_exporter": "python",
   "pygments_lexer": "ipython3",
   "version": "3.9.12"
  }
 },
 "nbformat": 4,
 "nbformat_minor": 5
}
