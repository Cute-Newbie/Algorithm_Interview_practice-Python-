{
 "cells": [
  {
   "cell_type": "code",
   "execution_count": null,
   "id": "c123f38f",
   "metadata": {},
   "outputs": [],
   "source": [
    "#회문 문자열 검사\n",
    "#n개의 문자열 데이터를 입력받아 앞에서 읽을 떄나 뒤에서 읽을 때나 같은 경우 회문 문자 라고한다.\n",
    "# 회문일 경우 yes 출력 아닌 경우 no를 출력하는 프로그램을 작성한다.\n",
    "# 대소문자 구분 안한다. \n",
    "\n",
    "# 입력 설명 \n",
    "#-> 각 줄에 정수 N(1-20)이 주어지고, 그 다음 줄부터 N개의 단어가 입력된다.\n",
    "\n",
    "# 출력설명\n",
    "#-> 각 줄에 해당 문자열의 결과를 yes 또는 no로 출력\n"
   ]
  },
  {
   "cell_type": "code",
   "execution_count": 3,
   "id": "274831f6",
   "metadata": {},
   "outputs": [
    {
     "name": "stdout",
     "output_type": "stream",
     "text": [
      "5\n",
      "key\n",
      "que\n",
      "list\n",
      "abba\n",
      "abbA\n",
      "NO\n",
      "NO\n",
      "NO\n",
      "Yes\n",
      "Yes\n"
     ]
    }
   ],
   "source": [
    "#내 풀이\n",
    "def palindrome(string):\n",
    "    for k in range(0,len(string)//2):\n",
    "        if(string[k] != string[len(string)-1-k]):\n",
    "            print('NO')\n",
    "            break\n",
    "    else:\n",
    "        print(\"Yes\")\n",
    "\n",
    "n = int(input())\n",
    "keys = []\n",
    "\n",
    "\n",
    "\n",
    "for i in range(n):\n",
    "    \n",
    "    string = input()\n",
    "    keys.append(string.lower())\n",
    "\n",
    "for string in keys:\n",
    "    palindrome(string)\n",
    "    \n"
   ]
  },
  {
   "cell_type": "code",
   "execution_count": 4,
   "id": "426d249d",
   "metadata": {},
   "outputs": [
    {
     "name": "stdout",
     "output_type": "stream",
     "text": [
      "5\n",
      "que\n",
      "#1 NO\n",
      "list\n",
      "#2 NO\n",
      "abba\n",
      "#3 YES\n",
      "asdf\n",
      "#4 NO\n",
      "asdf\n",
      "#5 NO\n"
     ]
    }
   ],
   "source": [
    "# 강사 풀이1\n",
    "n = int(input())\n",
    "\n",
    "for i in range(n):\n",
    "    \n",
    "    s= input()\n",
    "    s=s.upper()\n",
    "    size = len(s)\n",
    "    for j in range(size//2):\n",
    "        \n",
    "        if(s[j] != s[-1-j]):# 인덱스를 거꾸로 접근할 수 있다. 기억해 둘 것\n",
    "            print(\"#%d NO\" %(i+1))\n",
    "            break\n",
    "    else:\n",
    "        print(\"#%d YES\" %(i+1))\n",
    "    \n",
    "        "
   ]
  },
  {
   "cell_type": "code",
   "execution_count": 5,
   "id": "91e05b8d",
   "metadata": {},
   "outputs": [
    {
     "name": "stdout",
     "output_type": "stream",
     "text": [
      "3\n",
      "abba\n",
      "#1 YES\n",
      "abbA\n",
      "#2 YES\n",
      "qwertty\n",
      "#3 NO\n"
     ]
    }
   ],
   "source": [
    "# 강사 풀이 2\n",
    "n = int(input())\n",
    "\n",
    "for i in range(n):\n",
    "    s = input()\n",
    "    s = s.upper()\n",
    "    if s == s[::-1]: # 한단계씩 작아지면서 \n",
    "        print(\"#%d YES\" %(i+1))\n",
    "    else:\n",
    "        print(\"#%d NO\" %(i+1))\n",
    "    "
   ]
  },
  {
   "cell_type": "code",
   "execution_count": 6,
   "id": "765b8474",
   "metadata": {},
   "outputs": [
    {
     "name": "stdout",
     "output_type": "stream",
     "text": [
      "linear\n",
      "raenil\n"
     ]
    }
   ],
   "source": [
    "# 보충설명 \n",
    "\n",
    "a = \"linear\"\n",
    "print(a)\n",
    "print(a[::-1])"
   ]
  }
 ],
 "metadata": {
  "kernelspec": {
   "display_name": "Python 3 (ipykernel)",
   "language": "python",
   "name": "python3"
  },
  "language_info": {
   "codemirror_mode": {
    "name": "ipython",
    "version": 3
   },
   "file_extension": ".py",
   "mimetype": "text/x-python",
   "name": "python",
   "nbconvert_exporter": "python",
   "pygments_lexer": "ipython3",
   "version": "3.9.13"
  }
 },
 "nbformat": 4,
 "nbformat_minor": 5
}
