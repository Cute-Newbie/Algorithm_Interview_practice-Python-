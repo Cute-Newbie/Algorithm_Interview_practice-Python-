{
 "cells": [
  {
   "cell_type": "code",
   "execution_count": null,
   "id": "59badc58",
   "metadata": {},
   "outputs": [],
   "source": [
    "# 숫자카드 게임 p.96"
   ]
  },
  {
   "cell_type": "code",
   "execution_count": null,
   "id": "731a0901",
   "metadata": {},
   "outputs": [],
   "source": [
    "#My answer "
   ]
  },
  {
   "cell_type": "code",
   "execution_count": 3,
   "id": "7820d864",
   "metadata": {},
   "outputs": [
    {
     "name": "stdout",
     "output_type": "stream",
     "text": [
      "2 4\n",
      "7 3 1 8\n",
      "3 3 3 4\n",
      "3\n"
     ]
    }
   ],
   "source": [
    "n,m = map(int,input().split())\n",
    "answer_list = []\n",
    "\n",
    "for _ in range(n):\n",
    "    data = list(map(int,input().split()))\n",
    "    data.sort()\n",
    "    answer_list.append(data[0])\n",
    "answer_list.sort()\n",
    "print(answer_list[n-1])"
   ]
  },
  {
   "cell_type": "code",
   "execution_count": null,
   "id": "d7e88dc3",
   "metadata": {},
   "outputs": [],
   "source": [
    "# min 함수를 이용하는 답안 예시 "
   ]
  },
  {
   "cell_type": "code",
   "execution_count": null,
   "id": "4974c4eb",
   "metadata": {},
   "outputs": [],
   "source": [
    "\n",
    "n,m = map(int,input().split())\n",
    "result = 0\n",
    "for i in range(n):\n",
    "    data = list(map(int,input().split()))\n",
    "    min_value = main(data)\n",
    "    result = max(result,min_value)\n",
    "print(result)"
   ]
  },
  {
   "cell_type": "code",
   "execution_count": null,
   "id": "de3c1356",
   "metadata": {},
   "outputs": [],
   "source": [
    "# 이중 반복문 구조를 이용한 답안 예시 "
   ]
  },
  {
   "cell_type": "code",
   "execution_count": 6,
   "id": "252b3b94",
   "metadata": {},
   "outputs": [
    {
     "name": "stdout",
     "output_type": "stream",
     "text": [
      "2 4\n",
      "7 3 1 8\n",
      "3 3 3 4\n",
      "3\n"
     ]
    }
   ],
   "source": [
    "n,m = map(int,input().split())\n",
    "\n",
    "for i in range(n):\n",
    "    data = list(map(int,input().split()))\n",
    "    min_value = 1000\n",
    "    for a in data:\n",
    "        min_value = min(min_value,a)\n",
    "    result = max(result,min_value)\n",
    "print(result)"
   ]
  },
  {
   "cell_type": "code",
   "execution_count": null,
   "id": "85a79772",
   "metadata": {},
   "outputs": [],
   "source": []
  },
  {
   "cell_type": "code",
   "execution_count": null,
   "id": "b676c179",
   "metadata": {},
   "outputs": [],
   "source": []
  },
  {
   "cell_type": "code",
   "execution_count": null,
   "id": "974a19e0",
   "metadata": {},
   "outputs": [],
   "source": []
  },
  {
   "cell_type": "code",
   "execution_count": null,
   "id": "9f56632e",
   "metadata": {},
   "outputs": [],
   "source": []
  },
  {
   "cell_type": "code",
   "execution_count": null,
   "id": "1961ec4f",
   "metadata": {},
   "outputs": [],
   "source": []
  }
 ],
 "metadata": {
  "kernelspec": {
   "display_name": "Python 3 (ipykernel)",
   "language": "python",
   "name": "python3"
  },
  "language_info": {
   "codemirror_mode": {
    "name": "ipython",
    "version": 3
   },
   "file_extension": ".py",
   "mimetype": "text/x-python",
   "name": "python",
   "nbconvert_exporter": "python",
   "pygments_lexer": "ipython3",
   "version": "3.9.12"
  }
 },
 "nbformat": 4,
 "nbformat_minor": 5
}
