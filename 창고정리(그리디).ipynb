{
 "cells": [
  {
   "cell_type": "code",
   "execution_count": 6,
   "id": "fa4b346f",
   "metadata": {},
   "outputs": [
    {
     "name": "stdout",
     "output_type": "stream",
     "text": [
      "10\n",
      "69 42 68 76 40 87 14 65 76 81\n",
      "50\n",
      "20\n"
     ]
    }
   ],
   "source": [
    "#내풀이 \n",
    "\n",
    "n = int(input())\n",
    "\n",
    "tower = list(map(int,input().split()))\n",
    "\n",
    "m = int(input())\n",
    "tower.sort()\n",
    "for _ in range(m):\n",
    "    \n",
    "    \n",
    "    tower[0] += 1\n",
    "    tower[-1] -= 1\n",
    "    tower.sort()\n",
    "print(tower[-1]-tower[0])\n"
   ]
  }
 ],
 "metadata": {
  "kernelspec": {
   "display_name": "Python 3 (ipykernel)",
   "language": "python",
   "name": "python3"
  },
  "language_info": {
   "codemirror_mode": {
    "name": "ipython",
    "version": 3
   },
   "file_extension": ".py",
   "mimetype": "text/x-python",
   "name": "python",
   "nbconvert_exporter": "python",
   "pygments_lexer": "ipython3",
   "version": "3.9.12"
  }
 },
 "nbformat": 4,
 "nbformat_minor": 5
}
