{
 "cells": [
  {
   "cell_type": "code",
   "execution_count": null,
   "id": "a0eecce6",
   "metadata": {},
   "outputs": [],
   "source": [
    "# My_solution"
   ]
  },
  {
   "cell_type": "code",
   "execution_count": null,
   "id": "47267bf3",
   "metadata": {},
   "outputs": [],
   "source": []
  },
  {
   "cell_type": "code",
   "execution_count": 9,
   "id": "528d2fe2",
   "metadata": {
    "scrolled": true
   },
   "outputs": [
    {
     "name": "stdout",
     "output_type": "stream",
     "text": [
      "3 4\n",
      "3\n",
      "5\n",
      "7\n",
      "-1\n"
     ]
    }
   ],
   "source": [
    "n,m = map(int,input().split())\n",
    "coins = []\n",
    "d = [0]* 10001\n",
    "\n",
    "for i in range(n):\n",
    "    a = int(input())\n",
    "    coins.append(a)\n",
    "coins.sort()\n",
    "for i in coins:\n",
    "    d[i]= 1\n",
    "\n",
    "for i in range(coins[n-1]+1,m+1):\n",
    "    d[i] = min([d[i-j] for j in coins])+1\n",
    "    \n",
    "    \n",
    "if d[m] == 0:\n",
    "    print(-1)\n",
    "else:\n",
    "    print(d[m])"
   ]
  },
  {
   "cell_type": "code",
   "execution_count": null,
   "id": "131db9aa",
   "metadata": {},
   "outputs": [],
   "source": [
    "#Book solution"
   ]
  },
  {
   "cell_type": "code",
   "execution_count": 10,
   "id": "6851d8cf",
   "metadata": {},
   "outputs": [
    {
     "name": "stdout",
     "output_type": "stream",
     "text": [
      "2 15\n",
      "2\n",
      "3\n",
      "5\n"
     ]
    }
   ],
   "source": [
    "n,m = map(int,input().split())\n",
    "\n",
    "array = []\n",
    "\n",
    "for i in range(n):\n",
    "    array.append(int(input()))\n",
    "    \n",
    "d = [10001]*(m+1)\n",
    "\n",
    "d[0] = 0\n",
    "\n",
    "for i in range(n):\n",
    "    for j in range(array[i],m+1):\n",
    "        if d[j-array[i]] != 10001:\n",
    "            d[j] = min(d[j],d[j-array[i]]+1)\n",
    "if d[m] == 10001:\n",
    "    print(-1)\n",
    "else:\n",
    "    print(d[m])"
   ]
  }
 ],
 "metadata": {
  "kernelspec": {
   "display_name": "Python 3 (ipykernel)",
   "language": "python",
   "name": "python3"
  },
  "language_info": {
   "codemirror_mode": {
    "name": "ipython",
    "version": 3
   },
   "file_extension": ".py",
   "mimetype": "text/x-python",
   "name": "python",
   "nbconvert_exporter": "python",
   "pygments_lexer": "ipython3",
   "version": "3.9.13"
  }
 },
 "nbformat": 4,
 "nbformat_minor": 5
}
