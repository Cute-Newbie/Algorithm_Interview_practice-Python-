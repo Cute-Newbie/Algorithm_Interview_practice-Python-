{
 "cells": [
  {
   "cell_type": "code",
   "execution_count": 2,
   "id": "8bbff70e",
   "metadata": {},
   "outputs": [
    {
     "name": "stdout",
     "output_type": "stream",
     "text": [
      "5\n",
      "10 13 10 12 15\n",
      "12 39 30 23 11\n",
      "11 25 50 53 15\n",
      "19 27 29 37 27\n",
      "19 13 30 13 19\n",
      "155\n"
     ]
    }
   ],
   "source": [
    "#내 풀이\n",
    "n = int(input())\n",
    "max_num = 0\n",
    "array = []\n",
    "for _ in range(n):\n",
    "    array.append(list(map(int,input().split())))\n",
    "\n",
    "for i in range(n):\n",
    "    if sum(array[i])>max_num:\n",
    "        max_num = sum(array[i])\n",
    "\n",
    "for i in range(n):\n",
    "    cnt = 0\n",
    "    for j in range(n):\n",
    "        cnt+=array[j][i]\n",
    "    if cnt > max_num:\n",
    "        max_num = cnt\n",
    "cnt1 = 0\n",
    "for i in range(n):\n",
    "    cnt1 += array[i][i]\n",
    "if cnt1 > max_num:\n",
    "    max_num = cnt1\n",
    "\n",
    "cnt2 = 0\n",
    "for i in range(n):\n",
    "    cnt2 += array[n-1-i][i]\n",
    "if cnt2 > max_num:\n",
    "    max_num = cnt2\n",
    "print(max_num)\n",
    "        \n",
    "    \n",
    "    \n",
    "    \n",
    "    \n",
    "# print(array)"
   ]
  },
  {
   "cell_type": "code",
   "execution_count": null,
   "id": "d432bb40",
   "metadata": {},
   "outputs": [],
   "source": [
    "#강사 풀이"
   ]
  },
  {
   "cell_type": "code",
   "execution_count": null,
   "id": "658e8084",
   "metadata": {},
   "outputs": [],
   "source": [
    "n = int(input())\n",
    "\n",
    "a = [list(map(int,input().splilt())) for _ in range(n)] # 요렇게 해주면 좋음\n",
    "\n",
    "largest = -987654321\n",
    "\n",
    "for i in range(n):\n",
    "    sum1 = sum2 = 0\n",
    "    for j in range(n):\n",
    "        sum1 += a[i][j]\n",
    "        sum2 += a[j][i] # 이런식으로 한번에 처리 가능함 \n",
    "    if sum1 > largest:\n",
    "        largest = sum1\n",
    "    if sum2>largest:\n",
    "        largest = sum2 # 행과 열의 최대 합\n",
    "sum3 = sum4 = 0\n",
    "for i in range(n):\n",
    "    sum3 += a[i][i]\n",
    "    sum4 += a[n-1-i][i]\n",
    "     if sum3 > largest:\n",
    "        largest = sum1\n",
    "    if sum4 >largest:\n",
    "        largest = sum2 # 행과 열의 최대 합\n",
    "\n"
   ]
  }
 ],
 "metadata": {
  "kernelspec": {
   "display_name": "Python 3 (ipykernel)",
   "language": "python",
   "name": "python3"
  },
  "language_info": {
   "codemirror_mode": {
    "name": "ipython",
    "version": 3
   },
   "file_extension": ".py",
   "mimetype": "text/x-python",
   "name": "python",
   "nbconvert_exporter": "python",
   "pygments_lexer": "ipython3",
   "version": "3.9.12"
  }
 },
 "nbformat": 4,
 "nbformat_minor": 5
}
