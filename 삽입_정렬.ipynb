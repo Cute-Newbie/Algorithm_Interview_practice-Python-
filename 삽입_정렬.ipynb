{
 "cells": [
  {
   "cell_type": "code",
   "execution_count": null,
   "id": "d2fc3d9a",
   "metadata": {},
   "outputs": [],
   "source": [
    "#My solution"
   ]
  },
  {
   "cell_type": "code",
   "execution_count": 9,
   "id": "0d66c5d3",
   "metadata": {},
   "outputs": [
    {
     "name": "stdout",
     "output_type": "stream",
     "text": [
      "[0, 1, 2, 3, 4, 5, 6, 7, 8, 9]\n"
     ]
    }
   ],
   "source": [
    "array = [7,5,9,0,3,1,6,2,4,8]\n",
    "array1 = [1,3,5,7,9,2,4,6,8]\n",
    "\n",
    "for i in range(1,len(array)):\n",
    "    for j in range(0,i):\n",
    "        if array[j] > array[i]:\n",
    "            array[j],array[i] = array[i],array[j]\n",
    "print(array)"
   ]
  },
  {
   "cell_type": "code",
   "execution_count": null,
   "id": "bef770eb",
   "metadata": {},
   "outputs": [],
   "source": [
    "#Book's Code"
   ]
  },
  {
   "cell_type": "code",
   "execution_count": 6,
   "id": "ca0c5314",
   "metadata": {},
   "outputs": [
    {
     "name": "stdout",
     "output_type": "stream",
     "text": [
      "[0, 1, 2, 3, 4, 5, 6, 7, 8, 9]\n"
     ]
    }
   ],
   "source": [
    "for i in range(1,len(array)):\n",
    "    for j in range(i,0,-1):\n",
    "        if array[j]  < array[j-1]:\n",
    "            array[j],array[j-1] = array[j-1],array[j]\n",
    "        else:\n",
    "            break\n",
    "print(array)"
   ]
  }
 ],
 "metadata": {
  "kernelspec": {
   "display_name": "Python 3 (ipykernel)",
   "language": "python",
   "name": "python3"
  },
  "language_info": {
   "codemirror_mode": {
    "name": "ipython",
    "version": 3
   },
   "file_extension": ".py",
   "mimetype": "text/x-python",
   "name": "python",
   "nbconvert_exporter": "python",
   "pygments_lexer": "ipython3",
   "version": "3.9.13"
  }
 },
 "nbformat": 4,
 "nbformat_minor": 5
}
