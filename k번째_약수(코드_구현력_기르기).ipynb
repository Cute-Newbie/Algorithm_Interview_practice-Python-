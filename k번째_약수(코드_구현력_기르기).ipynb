{
 "cells": [
  {
   "cell_type": "code",
   "execution_count": null,
   "id": "cffac36b",
   "metadata": {},
   "outputs": [],
   "source": [
    "#입력 : 첫쨰 줄에 N,K가 빈칸을 사이에 두고 주어진다. N은 1 이상 10,000이하이다. K는 1이상 N이하이다.\n",
    "\n",
    "#출력: 첫째 줄에 N의 약수들 중에서 K번째로 작은 수를 출력한다. 만일 N의 약수의 갯수가 K개보다 적어서\n",
    "# K가 존재하지 않을 경우에는 -1을 출력하시오."
   ]
  },
  {
   "cell_type": "code",
   "execution_count": 9,
   "id": "74e3eecb",
   "metadata": {},
   "outputs": [
    {
     "name": "stdout",
     "output_type": "stream",
     "text": [
      "6 5\n",
      "-1\n"
     ]
    }
   ],
   "source": [
    "#내 풀이\n",
    "N,K = map(int,input().split())\n",
    "\n",
    "divisor = []\n",
    "\n",
    "for i in range(1,N+1):\n",
    "    if(N % i == 0):\n",
    "        divisor.append(i)\n",
    "if(len(divisor) < K):\n",
    "    print(-1)\n",
    "else:\n",
    "    print(divisor[K-1])\n"
   ]
  },
  {
   "cell_type": "code",
   "execution_count": 7,
   "id": "20b5d4a6",
   "metadata": {},
   "outputs": [
    {
     "name": "stdout",
     "output_type": "stream",
     "text": [
      "6 5\n",
      "-1\n"
     ]
    }
   ],
   "source": [
    "#강사 풀이\n",
    "\n",
    "n,k = map(int,input().split())\n",
    "cnt = 0\n",
    "\n",
    "for i in range(1,n+1):\n",
    "    \n",
    "    if(n%i == 0):\n",
    "        cnt += 1\n",
    "        \n",
    "    if(cnt == k):\n",
    "        print(i)\n",
    "        break\n",
    "else:# For-Else구문 For가 정상적으로 끝나면 Else작동 \n",
    "    print(-1)\n",
    "    "
   ]
  },
  {
   "cell_type": "code",
   "execution_count": null,
   "id": "d28d3ff4",
   "metadata": {},
   "outputs": [],
   "source": []
  },
  {
   "cell_type": "code",
   "execution_count": null,
   "id": "cbf35929",
   "metadata": {},
   "outputs": [],
   "source": []
  }
 ],
 "metadata": {
  "kernelspec": {
   "display_name": "Python 3 (ipykernel)",
   "language": "python",
   "name": "python3"
  },
  "language_info": {
   "codemirror_mode": {
    "name": "ipython",
    "version": 3
   },
   "file_extension": ".py",
   "mimetype": "text/x-python",
   "name": "python",
   "nbconvert_exporter": "python",
   "pygments_lexer": "ipython3",
   "version": "3.9.13"
  }
 },
 "nbformat": 4,
 "nbformat_minor": 5
}
