{
 "cells": [
  {
   "cell_type": "code",
   "execution_count": null,
   "id": "6c938bae",
   "metadata": {},
   "outputs": [],
   "source": [
    "#Stack구현"
   ]
  },
  {
   "cell_type": "code",
   "execution_count": 1,
   "id": "9b74b065",
   "metadata": {},
   "outputs": [
    {
     "name": "stdout",
     "output_type": "stream",
     "text": [
      "[5, 2, 3, 1]\n",
      "[1, 3, 2, 5]\n"
     ]
    }
   ],
   "source": [
    "stack = []\n",
    "stack.append(5)\n",
    "stack.append(2)\n",
    "stack.append(3)\n",
    "stack.append(7)\n",
    "stack.pop()\n",
    "stack.append(1)\n",
    "stack.append(4)\n",
    "stack.pop()\n",
    "print(stack)\n",
    "print(stack[::-1])"
   ]
  },
  {
   "cell_type": "code",
   "execution_count": null,
   "id": "6c9efc20",
   "metadata": {},
   "outputs": [],
   "source": [
    "#Que 구현"
   ]
  },
  {
   "cell_type": "code",
   "execution_count": 3,
   "id": "f69253ec",
   "metadata": {},
   "outputs": [
    {
     "name": "stdout",
     "output_type": "stream",
     "text": [
      "deque([3, 7, 1, 4])\n",
      "deque([4, 1, 7, 3])\n"
     ]
    }
   ],
   "source": [
    "from collections import deque # 일반적인 코딩 테스트에서 사용해도 되는 라이브러리\n",
    "\n",
    "queue = deque()\n",
    "\n",
    "queue.append(5)\n",
    "queue.append(2)\n",
    "queue.append(3)\n",
    "queue.append(7)\n",
    "queue.popleft()\n",
    "queue.append(1)\n",
    "queue.append(4)\n",
    "queue.popleft()\n",
    "\n",
    "print(queue)\n",
    "queue.reverse()\n",
    "print(queue)"
   ]
  },
  {
   "cell_type": "code",
   "execution_count": null,
   "id": "641d409d",
   "metadata": {},
   "outputs": [],
   "source": [
    "#Factorial(using recursion)"
   ]
  },
  {
   "cell_type": "code",
   "execution_count": 5,
   "id": "761c8692",
   "metadata": {},
   "outputs": [
    {
     "name": "stdout",
     "output_type": "stream",
     "text": [
      "120\n"
     ]
    }
   ],
   "source": [
    "def factorial_iterative(n):\n",
    "    if (n==1):\n",
    "        return 1\n",
    "        \n",
    "    else:\n",
    "        return (n)*factorial_iterative(n-1)\n",
    "    \n",
    "print(factorial_iterative(5))"
   ]
  }
 ],
 "metadata": {
  "kernelspec": {
   "display_name": "Python 3 (ipykernel)",
   "language": "python",
   "name": "python3"
  },
  "language_info": {
   "codemirror_mode": {
    "name": "ipython",
    "version": 3
   },
   "file_extension": ".py",
   "mimetype": "text/x-python",
   "name": "python",
   "nbconvert_exporter": "python",
   "pygments_lexer": "ipython3",
   "version": "3.9.13"
  }
 },
 "nbformat": 4,
 "nbformat_minor": 5
}
