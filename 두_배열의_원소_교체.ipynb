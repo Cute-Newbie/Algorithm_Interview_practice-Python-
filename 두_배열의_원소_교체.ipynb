{
 "cells": [
  {
   "cell_type": "code",
   "execution_count": null,
   "id": "c036a818",
   "metadata": {},
   "outputs": [],
   "source": [
    "#My answer"
   ]
  },
  {
   "cell_type": "code",
   "execution_count": 4,
   "id": "b5beeb24",
   "metadata": {},
   "outputs": [
    {
     "name": "stdout",
     "output_type": "stream",
     "text": [
      "5 3\n",
      "1 2 5 4 3\n",
      "5 5 6 6 5\n",
      "26\n"
     ]
    }
   ],
   "source": [
    "n,swap = map(int,input().split())\n",
    "\n",
    "A = sorted(list(map(int,input().split())))\n",
    "B = sorted(list(map(int,input().split())))\n",
    "\n",
    "for i in range(swap):\n",
    "    if A[i] < B[n-1-i]:\n",
    "        A[i] = B[n-1-i]\n",
    "    else:\n",
    "        break # 원소의 길이가 다를수 있다.!\n",
    "\n",
    "result = 0\n",
    "for i in range(len(A)): # sum function  좀 이용하기 \n",
    "    result += A[i]\n",
    "print(result)"
   ]
  },
  {
   "cell_type": "code",
   "execution_count": 5,
   "id": "ddeee39c",
   "metadata": {},
   "outputs": [],
   "source": [
    "#Book's Code"
   ]
  },
  {
   "cell_type": "code",
   "execution_count": null,
   "id": "40174d0c",
   "metadata": {},
   "outputs": [],
   "source": [
    "n,k = map(int,input().split())\n",
    "a = list(map(int,input().split()))\n",
    "b = list(map(int,input().split()))\n",
    "\n",
    "a.sort()\n",
    "b.sort(reverse = True)\n",
    "\n",
    "for i in range(k):\n",
    "    if a[i]<b[i]:\n",
    "        a[i],b[i] = b[i],a[i]\n",
    "    else:\n",
    "        break"
   ]
  },
  {
   "cell_type": "code",
   "execution_count": null,
   "id": "665e6bed",
   "metadata": {},
   "outputs": [],
   "source": []
  }
 ],
 "metadata": {
  "kernelspec": {
   "display_name": "Python 3 (ipykernel)",
   "language": "python",
   "name": "python3"
  },
  "language_info": {
   "codemirror_mode": {
    "name": "ipython",
    "version": 3
   },
   "file_extension": ".py",
   "mimetype": "text/x-python",
   "name": "python",
   "nbconvert_exporter": "python",
   "pygments_lexer": "ipython3",
   "version": "3.9.13"
  }
 },
 "nbformat": 4,
 "nbformat_minor": 5
}
