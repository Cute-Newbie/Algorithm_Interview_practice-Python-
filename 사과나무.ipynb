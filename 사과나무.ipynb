{
 "cells": [
  {
   "cell_type": "code",
   "execution_count": 16,
   "id": "785fe8bf",
   "metadata": {},
   "outputs": [
    {
     "name": "stdout",
     "output_type": "stream",
     "text": [
      "5\n",
      "10 13 10 12 15\n",
      "12 39 30 23 11\n",
      "11 25 50 53 15\n",
      "19 27 29 37 27\n",
      "19 13 30 13 19\n",
      "0\n",
      "[10]\n",
      "[30]\n",
      "1\n",
      "[39, 30, 23]\n",
      "[27, 29, 37]\n",
      "379\n"
     ]
    }
   ],
   "source": [
    "#내 풀이 \n",
    "\n",
    "n = int(input())\n",
    "hap = 0\n",
    "\n",
    "a = [list(map(int,input().split())) for _ in range(n)]\n",
    "\n",
    "for i in range(n//2):\n",
    "    print(i)\n",
    "    hap += sum(a[i][n//2-(2*i+1)//2:n//2+(2*i+1)//2+1])\n",
    "\n",
    "    \n",
    "    hap += sum(a[n-1-i][n//2-(2*i+1)//2:n//2+(2*i+1)//2+1])\n",
    "\n",
    "hap += sum(a[n//2])\n",
    "print(hap)"
   ]
  },
  {
   "cell_type": "code",
   "execution_count": null,
   "id": "4032ef4c",
   "metadata": {},
   "outputs": [],
   "source": [
    "#강사 풀이 "
   ]
  },
  {
   "cell_type": "code",
   "execution_count": null,
   "id": "33e9d8de",
   "metadata": {},
   "outputs": [],
   "source": [
    "n = int(input())\n",
    "\n",
    "a = [list(map(int,input().split())) for _ in range(n)]\n",
    "\n",
    "res = 0\n",
    "\n",
    "s = e = n//2 # start, end s는 1\n",
    "\n",
    "for i in range(n):\n",
    "    for j in range(s,e+1):\n",
    "        res += a[i][j]\n",
    "    if(i<n//2):\n",
    "        s -= 1\n",
    "        e += 1\n",
    "    else:\n",
    "        s += 1\n",
    "        e -= 1\n",
    "print(res)\n",
    "        \n",
    "\n"
   ]
  }
 ],
 "metadata": {
  "kernelspec": {
   "display_name": "Python 3 (ipykernel)",
   "language": "python",
   "name": "python3"
  },
  "language_info": {
   "codemirror_mode": {
    "name": "ipython",
    "version": 3
   },
   "file_extension": ".py",
   "mimetype": "text/x-python",
   "name": "python",
   "nbconvert_exporter": "python",
   "pygments_lexer": "ipython3",
   "version": "3.9.12"
  }
 },
 "nbformat": 4,
 "nbformat_minor": 5
}
