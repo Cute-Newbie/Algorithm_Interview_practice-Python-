{
 "cells": [
  {
   "cell_type": "code",
   "execution_count": 3,
   "id": "766934b1",
   "metadata": {},
   "outputs": [
    {
     "name": "stdout",
     "output_type": "stream",
     "text": [
      "5 10\n",
      "9 13\n",
      "1 2\n",
      "3 4\n",
      "5 6\n",
      "1 2\n",
      "3 4\n",
      "5 6\n",
      "1 20\n",
      "1 20\n",
      "[1, 2, 3, 4, 10, 9, 8, 7, 13, 12, 11, 5, 6, 14, 15, 16, 17, 18, 19, 20]\n"
     ]
    }
   ],
   "source": [
    "# 내 풀이\n",
    "def changer(lst,start,end):\n",
    "    \n",
    "    length = end-start + 1\n",
    "    \n",
    "    for i in range(length//2):\n",
    "        \n",
    "        lst[start+i],lst[end-i] = lst[end-i],lst[start+i]\n",
    "        \n",
    "    return\n",
    "    \n",
    "    \n",
    "\n",
    "\n",
    "cards = list(i for i in range(21))\n",
    "for _ in range(10):\n",
    "    \n",
    "    n,m = map(int,input().split())\n",
    "    changer(cards,n,m)\n",
    "print(cards[1:])\n"
   ]
  },
  {
   "cell_type": "code",
   "execution_count": 5,
   "id": "f5ea7a99",
   "metadata": {},
   "outputs": [
    {
     "name": "stdout",
     "output_type": "stream",
     "text": [
      "5 10\n",
      "9 13\n",
      "1 2\n",
      "3 4\n",
      "5 6\n",
      "1 2\n",
      "3 4\n",
      "5 6\n",
      "1 20\n",
      "1 20\n",
      "[0, 1, 2, 3, 4, 10, 9, 8, 7, 13, 12, 11, 5, 6, 14, 15, 16, 17, 18, 19, 20]\n"
     ]
    }
   ],
   "source": [
    "##### 강사 풀이\n",
    "a = list(range(21))\n",
    "\n",
    "for _ in range(10):\n",
    "    \n",
    "    s,e = map(int,input().split())\n",
    "    \n",
    "    for i in range((e-s+1)//2):\n",
    "        \n",
    "        a[s+i],a[e-i] = a[e-i],a[s+i] \n",
    "a.pop(0)\n",
    "for x in a:\n",
    "    print(x,end=\" \")"
   ]
  },
  {
   "cell_type": "markdown",
   "id": "5cbc5370",
   "metadata": {},
   "source": []
  }
 ],
 "metadata": {
  "kernelspec": {
   "display_name": "Python 3 (ipykernel)",
   "language": "python",
   "name": "python3"
  },
  "language_info": {
   "codemirror_mode": {
    "name": "ipython",
    "version": 3
   },
   "file_extension": ".py",
   "mimetype": "text/x-python",
   "name": "python",
   "nbconvert_exporter": "python",
   "pygments_lexer": "ipython3",
   "version": "3.9.13"
  }
 },
 "nbformat": 4,
 "nbformat_minor": 5
}
