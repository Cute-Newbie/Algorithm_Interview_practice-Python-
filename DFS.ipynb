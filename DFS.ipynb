{
 "cells": [
  {
   "cell_type": "code",
   "execution_count": null,
   "id": "f14c345c",
   "metadata": {},
   "outputs": [],
   "source": [
    "#DFS 파이썬으로 구현 -책 안보고 이해한대로 구현하기 "
   ]
  },
  {
   "cell_type": "code",
   "execution_count": 3,
   "id": "1968721c",
   "metadata": {},
   "outputs": [],
   "source": [
    "def dfs(graph,n,visited):\n",
    "    visited[n] = True\n",
    "    print(n,end = \" \")\n",
    "    for i in graph[n]:\n",
    "        if not visited[i]:\n",
    "            dfs(graph,i,visited)\n",
    "    \n",
    "    \n",
    "    \n",
    "visited = [False] * 9\n",
    "graph = [[],\n",
    "        [2,3,8],\n",
    "        [1,7],\n",
    "        [1,4,5],\n",
    "        [3,5],\n",
    "        [3,4],\n",
    "        [7],\n",
    "        [2,6,8],\n",
    "        [1,7]]\n"
   ]
  },
  {
   "cell_type": "code",
   "execution_count": 4,
   "id": "c1df1c73",
   "metadata": {},
   "outputs": [
    {
     "name": "stdout",
     "output_type": "stream",
     "text": [
      "1 2 7 6 8 3 4 5 "
     ]
    }
   ],
   "source": [
    "dfs(graph,1,visited) #Stack"
   ]
  }
 ],
 "metadata": {
  "kernelspec": {
   "display_name": "Python 3 (ipykernel)",
   "language": "python",
   "name": "python3"
  },
  "language_info": {
   "codemirror_mode": {
    "name": "ipython",
    "version": 3
   },
   "file_extension": ".py",
   "mimetype": "text/x-python",
   "name": "python",
   "nbconvert_exporter": "python",
   "pygments_lexer": "ipython3",
   "version": "3.9.13"
  }
 },
 "nbformat": 4,
 "nbformat_minor": 5
}
