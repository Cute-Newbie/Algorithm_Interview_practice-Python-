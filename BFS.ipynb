{
 "cells": [
  {
   "cell_type": "code",
   "execution_count": null,
   "id": "393d50a2",
   "metadata": {},
   "outputs": [],
   "source": [
    "#BFS "
   ]
  },
  {
   "cell_type": "code",
   "execution_count": 58,
   "id": "1a5d5968",
   "metadata": {},
   "outputs": [],
   "source": [
    "from collections import deque\n",
    "\n",
    "\n",
    "def BFS(graph,n,visited):\n",
    "    que = deque([n])\n",
    "    visited[n] = True\n",
    "    \n",
    "    while que:\n",
    "        v = que.popleft()\n",
    "        print(v,end = \" \")\n",
    "        for i in graph[v]:\n",
    "            if not visited[i]:\n",
    "                que.append(i)\n",
    "                visited[i] = True\n",
    "    \n",
    "        \n",
    "    \n",
    "        \n",
    "        \n",
    "        \n",
    "    \n",
    "    \n",
    "\n",
    "graph = [[],\n",
    "        [2,3,8],\n",
    "        [1,7],\n",
    "        [1,4,5],\n",
    "        [3,5],\n",
    "        [3,4],\n",
    "        [7],\n",
    "        [2,6,8],\n",
    "        [1,7]]\n",
    "\n",
    "visited = [False]*9\n"
   ]
  },
  {
   "cell_type": "code",
   "execution_count": 59,
   "id": "19576bc2",
   "metadata": {},
   "outputs": [
    {
     "name": "stdout",
     "output_type": "stream",
     "text": [
      "1 2 3 8 7 4 5 6 "
     ]
    }
   ],
   "source": [
    "BFS(graph,1,visited)"
   ]
  }
 ],
 "metadata": {
  "kernelspec": {
   "display_name": "Python 3 (ipykernel)",
   "language": "python",
   "name": "python3"
  },
  "language_info": {
   "codemirror_mode": {
    "name": "ipython",
    "version": 3
   },
   "file_extension": ".py",
   "mimetype": "text/x-python",
   "name": "python",
   "nbconvert_exporter": "python",
   "pygments_lexer": "ipython3",
   "version": "3.9.13"
  }
 },
 "nbformat": 4,
 "nbformat_minor": 5
}
