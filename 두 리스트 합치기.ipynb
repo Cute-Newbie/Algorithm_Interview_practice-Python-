{
 "cells": [
  {
   "cell_type": "code",
   "execution_count": null,
   "id": "16105d0f",
   "metadata": {},
   "outputs": [],
   "source": [
    "# 두 리스트 합치기\n",
    "# 오름차순으로 정렬이 된 두 리스트가 주어지면 두 리스트르 오름차순으로 합쳐 출력하는 프로그램을 작성하시오"
   ]
  },
  {
   "cell_type": "code",
   "execution_count": 12,
   "id": "5f7bc7bc",
   "metadata": {},
   "outputs": [
    {
     "name": "stdout",
     "output_type": "stream",
     "text": [
      "3\n",
      "1 3 5\n",
      "5\n",
      "2 3 6 7 9\n",
      "[1, 2, 3, 3, 5, 6, 7, 9]\n"
     ]
    }
   ],
   "source": [
    "# 내 풀이 -> 푸는데 좀 시간이 걸림 복습!!\n",
    "n1 = int(input())\n",
    "arr1 = list(map(int,input().split()))\n",
    "# print(arr1)\n",
    "n2 = int(input())\n",
    "arr2 = list(map(int,input().split()))\n",
    "\n",
    "arr3 = []\n",
    "\n",
    "p1 = 0\n",
    "p2 = 0\n",
    "\n",
    "\n",
    "while(p1 != n1 | p2!=n2):\n",
    "    \n",
    "    if(arr1[p1]<arr2[p2]):\n",
    "        arr3.append(arr1[p1])\n",
    "        p1 += 1\n",
    "        \n",
    "    else:\n",
    "        arr3.append(arr2[p2])\n",
    "        p2 += 1\n",
    "        \n",
    "if(p1 == n1):\n",
    "    arr3 += arr2[p2:]\n",
    "if(p2 == n2):\n",
    "    arr3 += arr1[p1:]\n",
    "print(arr3)"
   ]
  },
  {
   "cell_type": "code",
   "execution_count": 13,
   "id": "baa1a6d2",
   "metadata": {},
   "outputs": [
    {
     "name": "stdout",
     "output_type": "stream",
     "text": [
      "3\n",
      "1 3 5\n",
      "5\n",
      "2 3 6 7 9\n",
      "[1, 2, 3, 3, 5, 6, 7, 9]\n"
     ]
    }
   ],
   "source": [
    "# 강사 풀이\n",
    "\n",
    "n = int(input())\n",
    "a = list(map(int,input().split()))\n",
    "m = int(input())\n",
    "b = list(map(int,input().split()))\n",
    "\n",
    "p1 = p2 = 0 # 포인터 변수 0으로 초기화\n",
    "\n",
    "c = [] \n",
    "\n",
    "while(p1 < n and p2 < m):\n",
    "    \n",
    "    if a[p1] <= b[p2]:\n",
    "        c.append(a[p1])\n",
    "        p1 += 1\n",
    "    else:\n",
    "        c.append(b[p2])\n",
    "        p2 += 1\n",
    "        \n",
    "if p1<n:\n",
    "    c += a[p1:]\n",
    "if p2<m:\n",
    "    c += b[p2:]\n",
    "print(c) "
   ]
  },
  {
   "cell_type": "code",
   "execution_count": null,
   "id": "d08efbd5",
   "metadata": {},
   "outputs": [],
   "source": []
  },
  {
   "cell_type": "code",
   "execution_count": null,
   "id": "84ba3f6f",
   "metadata": {},
   "outputs": [],
   "source": []
  }
 ],
 "metadata": {
  "kernelspec": {
   "display_name": "Python 3 (ipykernel)",
   "language": "python",
   "name": "python3"
  },
  "language_info": {
   "codemirror_mode": {
    "name": "ipython",
    "version": 3
   },
   "file_extension": ".py",
   "mimetype": "text/x-python",
   "name": "python",
   "nbconvert_exporter": "python",
   "pygments_lexer": "ipython3",
   "version": "3.9.13"
  }
 },
 "nbformat": 4,
 "nbformat_minor": 5
}
