{
 "cells": [
  {
   "cell_type": "markdown",
   "id": "52255166",
   "metadata": {},
   "source": [
    "유럽에서 가장 유명했던 유람선 타이타닉이 침몰하고 있습니다. 유람선에는 N명의 승객이 타고 \n",
    "있습니다. 구명보트를 타고 탈출해야 하는데 타이타닉에 있는 구명보트는 2명 이하로만 탈 수 있\n",
    "으며, 보트 한 개에 탈 수 있는 총 무게도 M kg 이하로 제한되어 있습니다.\n",
    "N명의 승객 몸무게가 주어졌을 때 승객 모두가 탈출하기 위한 구명보트의 최소개수를 출력하는 \n",
    "프로그램을 작성하세요"
   ]
  },
  {
   "cell_type": "code",
   "execution_count": 7,
   "id": "f451279a",
   "metadata": {},
   "outputs": [
    {
     "name": "stdout",
     "output_type": "stream",
     "text": [
      "5 140\n",
      "90 50 70 100 60\n",
      "3\n"
     ]
    }
   ],
   "source": [
    "# 내 풀이 \n",
    "number,weight_limit = map(int,input().split())\n",
    "people = list(map(int,input().split()))\n",
    "people.sort()\n",
    "cnt = number\n",
    "boat = 0\n",
    "for i in range(number-1):\n",
    "    if people[i] + people[i+1] <= weight_limit: # 틀림 \n",
    "        cnt -= 2\n",
    "        boat += 1\n",
    "    else:\n",
    "        break\n",
    "print(cnt+boat)\n",
    "\n",
    "        \n"
   ]
  },
  {
   "cell_type": "code",
   "execution_count": 11,
   "id": "bc2bced8",
   "metadata": {},
   "outputs": [
    {
     "name": "stdout",
     "output_type": "stream",
     "text": [
      "5 140\n",
      "90 50 70 100 60\n",
      "4\n"
     ]
    }
   ],
   "source": [
    "# 강사풀이 \n",
    "from collections import deque\n",
    "\n",
    "n,limit = map(int,input().split())\n",
    "p = list(map(int,input().split()))\n",
    "cnt = 0\n",
    "p = deque(p)\n",
    "while p:\n",
    "    if len(p) == 1:\n",
    "        cnt +=1\n",
    "        break\n",
    "        \n",
    "    if p[0] + p[-1] >limit:\n",
    "        p.pop()\n",
    "        cnt += 1\n",
    "    else:\n",
    "        p.popleft()\n",
    "        p.pop()\n",
    "        cnt += 1 \n",
    "print(cnt)"
   ]
  }
 ],
 "metadata": {
  "kernelspec": {
   "display_name": "Python 3 (ipykernel)",
   "language": "python",
   "name": "python3"
  },
  "language_info": {
   "codemirror_mode": {
    "name": "ipython",
    "version": 3
   },
   "file_extension": ".py",
   "mimetype": "text/x-python",
   "name": "python",
   "nbconvert_exporter": "python",
   "pygments_lexer": "ipython3",
   "version": "3.9.12"
  }
 },
 "nbformat": 4,
 "nbformat_minor": 5
}
