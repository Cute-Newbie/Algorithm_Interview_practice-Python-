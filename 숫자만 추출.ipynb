{
 "cells": [
  {
   "cell_type": "markdown",
   "id": "29e2d81a",
   "metadata": {},
   "source": [
    "숫자만 추출\n",
    "문자와 숫자가 섞여있는 문자열이 주어지만 그 중 숫자만 추출하여 그 순서대자연수를 만듭니다.\n",
    "\n",
    "입력: 첫 줄에 숫자가 적힌 문자열이 주어집니다. 문자열의 길이는 50을 넘지 않습니다.\n",
    "\n",
    "출력: 첫 줄에 자연수를 출력하고,두 번째 줄에 약수의 갯수를 출력합니다.\n"
   ]
  },
  {
   "cell_type": "code",
   "execution_count": 12,
   "id": "5a8cf115",
   "metadata": {},
   "outputs": [
    {
     "name": "stdout",
     "output_type": "stream",
     "text": [
      "g0en2Ts8eSoft\n",
      "28\n",
      "6\n"
     ]
    }
   ],
   "source": [
    "#내 풀이 \n",
    "n = input()\n",
    "s=\"\"\n",
    "cnt = 0\n",
    "for i in n:\n",
    "    if(48<=ord(i)<58):\n",
    "        s += i\n",
    "print(int(s))\n",
    "for i in range(1,int(s)+1):\n",
    "    if int(s)%i == 0:\n",
    "        cnt += 1\n",
    "print(cnt)\n"
   ]
  },
  {
   "cell_type": "code",
   "execution_count": 4,
   "id": "79e915cc",
   "metadata": {},
   "outputs": [
    {
     "name": "stdout",
     "output_type": "stream",
     "text": [
      "48\n"
     ]
    }
   ],
   "source": [
    "print(ord('0'))"
   ]
  },
  {
   "cell_type": "code",
   "execution_count": 3,
   "id": "87513de6",
   "metadata": {},
   "outputs": [
    {
     "name": "stdout",
     "output_type": "stream",
     "text": [
      "57\n"
     ]
    }
   ],
   "source": [
    "print(ord('9'))"
   ]
  },
  {
   "cell_type": "code",
   "execution_count": 15,
   "id": "5eb25503",
   "metadata": {},
   "outputs": [
    {
     "name": "stdout",
     "output_type": "stream",
     "text": [
      "g0en2Ts8eSoft\n",
      "28\n",
      "6\n"
     ]
    }
   ],
   "source": [
    "# 강사 풀이\n",
    "s = input()\n",
    "res = 0\n",
    "cnt = 0\n",
    "for x in s:\n",
    "    if x.isdecimal():\n",
    "        res = res * 10 +int(x)\n",
    "print(res)\n",
    "for i in range(1,res+1):\n",
    "    if res%i == 0:\n",
    "        cnt += 1\n",
    "print(cnt)"
   ]
  }
 ],
 "metadata": {
  "kernelspec": {
   "display_name": "Python 3 (ipykernel)",
   "language": "python",
   "name": "python3"
  },
  "language_info": {
   "codemirror_mode": {
    "name": "ipython",
    "version": 3
   },
   "file_extension": ".py",
   "mimetype": "text/x-python",
   "name": "python",
   "nbconvert_exporter": "python",
   "pygments_lexer": "ipython3",
   "version": "3.9.13"
  }
 },
 "nbformat": 4,
 "nbformat_minor": 5
}
