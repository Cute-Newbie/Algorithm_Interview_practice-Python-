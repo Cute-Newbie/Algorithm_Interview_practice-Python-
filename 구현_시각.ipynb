{
 "cells": [
  {
   "cell_type": "code",
   "execution_count": null,
   "id": "212927f6",
   "metadata": {},
   "outputs": [],
   "source": [
    "#My code"
   ]
  },
  {
   "cell_type": "code",
   "execution_count": 8,
   "id": "b41cc757",
   "metadata": {},
   "outputs": [
    {
     "name": "stdout",
     "output_type": "stream",
     "text": [
      "5\n",
      "11475\n"
     ]
    }
   ],
   "source": [
    "n = int(input())\n",
    "temp = 0\n",
    "for time in range(n+1):\n",
    "    for minute in range(0,60):\n",
    "        for second in range(0,60):\n",
    "            hour = str(time).zfill(2)\n",
    "            minute = str(minute).zfill(2)\n",
    "            second = str(second).zfill(2)\n",
    "            if '3' in hour+minute+second:\n",
    "                temp += 1\n",
    "print(temp)"
   ]
  },
  {
   "cell_type": "code",
   "execution_count": null,
   "id": "6ae8048e",
   "metadata": {},
   "outputs": [],
   "source": [
    "# 답안 예시"
   ]
  },
  {
   "cell_type": "code",
   "execution_count": 5,
   "id": "7d6c4145",
   "metadata": {},
   "outputs": [
    {
     "name": "stdout",
     "output_type": "stream",
     "text": [
      "5\n",
      "11475\n"
     ]
    }
   ],
   "source": [
    "#H를 입력받기 \n",
    "h = int(input())\n",
    "\n",
    "count = 0\n",
    "for i in range(h+1):\n",
    "    for j in range(60):\n",
    "        for k in range(60):\n",
    "            if '3' in str(i) + str(j) + str(k):\n",
    "                count += 1\n",
    "print(count)"
   ]
  }
 ],
 "metadata": {
  "kernelspec": {
   "display_name": "Python 3 (ipykernel)",
   "language": "python",
   "name": "python3"
  },
  "language_info": {
   "codemirror_mode": {
    "name": "ipython",
    "version": 3
   },
   "file_extension": ".py",
   "mimetype": "text/x-python",
   "name": "python",
   "nbconvert_exporter": "python",
   "pygments_lexer": "ipython3",
   "version": "3.9.12"
  }
 },
 "nbformat": 4,
 "nbformat_minor": 5
}
