{
 "cells": [
  {
   "cell_type": "markdown",
   "id": "b0e41d3c",
   "metadata": {},
   "source": [
    "현수는 씨름 감독입니다. 현수는 씨름 선수를 선발공고를 냈고, N명의 지원자가 지원을 했습\n",
    "니다. 현수는 각 지원자의 키와 몸무게 정보를 알고 있습니다.\n",
    "현수는 씨름 선수 선발 원칙을 다음과 같이 정했습니다.\n",
    "“다른 모든 지원자와 일대일 비교하여 키와 몸무게 중 적어도 하나는 크거나, 무거운 지원자\n",
    "만 뽑기로 했습니다.”\n",
    "만약 A라는 지원자보다 키도 크고 몸무게도 무거운 지원자가 존재한다면 A지원자는 탈락입니\n",
    "다."
   ]
  },
  {
   "cell_type": "code",
   "execution_count": 17,
   "id": "02b2eb0a",
   "metadata": {},
   "outputs": [
    {
     "name": "stdout",
     "output_type": "stream",
     "text": [
      "5\n",
      "172 67\n",
      "183 65\n",
      "180 70\n",
      "170 72\n",
      "181 60\n",
      "[[181, 60], [183, 65], [172, 67], [180, 70], [170, 72]]\n",
      "\n",
      "0\n",
      "1\n",
      "2\n",
      "3\n",
      "3\n"
     ]
    }
   ],
   "source": [
    "n = int(input()) \n",
    "cnt = 0 \n",
    "answer = []\n",
    "\n",
    "for _ in range(n):\n",
    "\n",
    "    a,b = map(int,input().split())\n",
    "    answer.append([a,b])\n",
    "\n",
    "answer.sort(key = lambda x: x[1]) \n",
    "print(answer) \n",
    "print()\n",
    "\n",
    "for i in range(len(answer)-1): \n",
    "    print(i) \n",
    "    for j in range(i+1,len(answer)):   # 코드가 너무 비효율 적임 \n",
    "        if answer[i][0]<answer[j][0]:\n",
    "            cnt += 1\n",
    "            break\n",
    "print(n-cnt)"
   ]
  },
  {
   "cell_type": "code",
   "execution_count": 19,
   "id": "8cd30092",
   "metadata": {},
   "outputs": [
    {
     "name": "stdout",
     "output_type": "stream",
     "text": [
      "5\n",
      "172 67\n",
      "183 65\n",
      "180 70\n",
      "170 72\n",
      "181 60\n",
      "3\n"
     ]
    }
   ],
   "source": [
    "#강사 풀이 \n",
    "\n",
    "n = int(input())\n",
    "body = []\n",
    "\n",
    "for i in range(n):\n",
    "    a,b = map(int,input().split())\n",
    "    body.append((a,b))\n",
    "\n",
    "body.sort(reverse = True) # 내림차순 정렬\n",
    "\n",
    "largest = 0\n",
    "cnt = 0\n",
    "\n",
    "for x,y in body:\n",
    "    if(largest<y):\n",
    "        largest = y\n",
    "        cnt += 1\n",
    "print(cnt)\n"
   ]
  }
 ],
 "metadata": {
  "kernelspec": {
   "display_name": "Python 3 (ipykernel)",
   "language": "python",
   "name": "python3"
  },
  "language_info": {
   "codemirror_mode": {
    "name": "ipython",
    "version": 3
   },
   "file_extension": ".py",
   "mimetype": "text/x-python",
   "name": "python",
   "nbconvert_exporter": "python",
   "pygments_lexer": "ipython3",
   "version": "3.9.12"
  }
 },
 "nbformat": 4,
 "nbformat_minor": 5
}
